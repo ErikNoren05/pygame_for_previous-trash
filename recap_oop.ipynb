{
 "cells": [
  {
   "cell_type": "code",
   "execution_count": null,
   "metadata": {},
   "outputs": [],
   "source": [
    "# Entity - Component - System\n",
    "\n",
    "entity - data\n",
    "component - duntions/methids that acts getter and setter the publish_display_datas\n",
    "system -funtions hanlding game logic"
   ]
  }
 ],
 "metadata": {
  "language_info": {
   "name": "python"
  }
 },
 "nbformat": 4,
 "nbformat_minor": 2
}
